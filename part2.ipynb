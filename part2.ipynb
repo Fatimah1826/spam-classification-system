{
 "cells": [
  {
   "cell_type": "code",
   "execution_count": 1,
   "id": "fa72dcd6",
   "metadata": {},
   "outputs": [
    {
     "name": "stdout",
     "output_type": "stream",
     "text": [
      "         deadline  project  email.  hi,  submit  a  testing.  test  hello,  \\\n",
      "Email 1         0        0       1    0       0  1         1     1       1   \n",
      "Email 2         0        0       0    1       0  0         0     0       0   \n",
      "Email 3         1        1       0    0       1  0         0     0       0   \n",
      "\n",
      "         this  ...  files.  your  for  tomorrow.  please  confirm  \\\n",
      "Email 1     2  ...       0     0    1          0       0        0   \n",
      "Email 2     0  ...       0     1    1          1       1        1   \n",
      "Email 3     0  ...       1     1    0          1       0        0   \n",
      "\n",
      "         attendance.  is  scheduled  reminder:  \n",
      "Email 1            0   2          0          0  \n",
      "Email 2            1   1          1          0  \n",
      "Email 3            0   1          0          1  \n",
      "\n",
      "[3 rows x 23 columns]\n"
     ]
    }
   ],
   "source": [
    "import pandas as pd\n",
    "from collections import Counter\n",
    "\n",
    "# Example dataset of emails\n",
    "data = {\n",
    "    \"email_id\": [1, 2, 3],\n",
    "    \"email_content\": [\n",
    "        \"Hello, this is a test email. This email is for testing.\",\n",
    "        \"Hi, the meeting is scheduled for tomorrow. Please confirm your attendance.\",\n",
    "        \"Reminder: the project deadline is tomorrow. Submit your files.\"\n",
    "    ]\n",
    "}\n",
    "\n",
    "# Convert the dataset into a DataFrame\n",
    "df = pd.DataFrame(data)\n",
    "\n",
    "# Method to count word frequency across all emails\n",
    "def count_word_frequencies(df):\n",
    "    \"\"\"\n",
    "    Create a table where rows represent emails and columns represent unique words.\n",
    "\n",
    "    Args:\n",
    "        df (pd.DataFrame): DataFrame containing emails.\n",
    "\n",
    "    Returns:\n",
    "        pd.DataFrame: DataFrame with word frequencies.\n",
    "    \"\"\"\n",
    "    # Initialize a list to store word frequencies for each email\n",
    "    all_word_counts = []\n",
    "\n",
    "    for content in df[\"email_content\"]:\n",
    "        # Tokenize the email content into words and normalize to lowercase\n",
    "        words = content.lower().split()\n",
    "        # Count the occurrences of each word\n",
    "        word_counts = Counter(words)\n",
    "        all_word_counts.append(word_counts)\n",
    "\n",
    "    # Create a set of all unique words across all emails\n",
    "    all_unique_words = set(word for counts in all_word_counts for word in counts)\n",
    "\n",
    "    # Create a DataFrame with rows as emails and columns as words\n",
    "    word_frequency_df = pd.DataFrame(\n",
    "        [{word: counts.get(word, 0) for word in all_unique_words} for counts in all_word_counts],\n",
    "        index=[f\"Email {i+1}\" for i in range(len(all_word_counts))]\n",
    "    )\n",
    "\n",
    "    return word_frequency_df\n",
    "\n",
    "# Generate the word frequency table\n",
    "word_frequency_table = count_word_frequencies(df)\n",
    "\n",
    "# Display the table\n",
    "print(word_frequency_table)"
   ]
  },
  {
   "cell_type": "code",
   "execution_count": null,
   "id": "110f1dcf",
   "metadata": {},
   "outputs": [],
   "source": []
  }
 ],
 "metadata": {
  "kernelspec": {
   "display_name": "Python 3 (ipykernel)",
   "language": "python",
   "name": "python3"
  },
  "language_info": {
   "codemirror_mode": {
    "name": "ipython",
    "version": 3
   },
   "file_extension": ".py",
   "mimetype": "text/x-python",
   "name": "python",
   "nbconvert_exporter": "python",
   "pygments_lexer": "ipython3",
   "version": "3.11.5"
  }
 },
 "nbformat": 4,
 "nbformat_minor": 5
}
